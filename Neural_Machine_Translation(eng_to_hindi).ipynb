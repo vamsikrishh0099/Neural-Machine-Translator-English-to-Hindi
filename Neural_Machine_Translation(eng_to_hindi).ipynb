{
  "nbformat": 4,
  "nbformat_minor": 0,
  "metadata": {
    "colab": {
      "name": "Neural_Machine_Translation(eng_to_hindi).ipynb",
      "provenance": [],
      "collapsed_sections": []
    },
    "kernelspec": {
      "name": "python3",
      "display_name": "Python 3"
    },
    "accelerator": "GPU"
  },
  "cells": [
    {
      "cell_type": "code",
      "metadata": {
        "id": "iTnchMWcSIrO",
        "colab_type": "code",
        "colab": {}
      },
      "source": [
        "import os\n",
        "import string\n",
        "from builtins import range,input\n",
        "import sys\n",
        "import numpy as np \n",
        "import tensorflow\n",
        "import pandas as pd\n",
        "import matplotlib.pyplot as plt\n",
        "from tensorflow.keras.layers import *\n",
        "from tensorflow.keras.models import Model\n",
        "from tensorflow.keras.preprocessing.text import Tokenizer\n",
        "from tensorflow.keras.preprocessing.sequence import pad_sequences\n",
        "from tensorflow.keras.optimizers import Adam,SGD\n"
      ],
      "execution_count": 0,
      "outputs": []
    },
    {
      "cell_type": "code",
      "metadata": {
        "id": "rluppDKoA97x",
        "colab_type": "code",
        "outputId": "23d6f414-f4d7-46df-81af-12ff3648a06f",
        "colab": {
          "base_uri": "https://localhost:8080/",
          "height": 129
        }
      },
      "source": [
        "from google.colab import drive\n",
        "drive.mount('/content/drive')"
      ],
      "execution_count": 0,
      "outputs": [
        {
          "output_type": "stream",
          "text": [
            "Go to this URL in a browser: https://accounts.google.com/o/oauth2/auth?client_id=947318989803-6bn6qk8qdgf4n4g3pfee6491hc0brc4i.apps.googleusercontent.com&redirect_uri=urn%3aietf%3awg%3aoauth%3a2.0%3aoob&response_type=code&scope=email%20https%3a%2f%2fwww.googleapis.com%2fauth%2fdocs.test%20https%3a%2f%2fwww.googleapis.com%2fauth%2fdrive%20https%3a%2f%2fwww.googleapis.com%2fauth%2fdrive.photos.readonly%20https%3a%2f%2fwww.googleapis.com%2fauth%2fpeopleapi.readonly\n",
            "\n",
            "Enter your authorization code:\n",
            "··········\n",
            "Mounted at /content/drive\n"
          ],
          "name": "stdout"
        }
      ]
    },
    {
      "cell_type": "code",
      "metadata": {
        "id": "RXE21DmHYKPo",
        "colab_type": "code",
        "colab": {}
      },
      "source": [
        "MAX_SEQUENCE_LENGTH=100\n",
        "MAX_VOCAB_SIZE=3000\n",
        "EMBEDDING_DIM=50\n",
        "VALIDATION_SPLIT=0.2\n",
        "BATCH_SIZE=64\n",
        "EPOCHS=100\n",
        "LATENT_DIM=256\n",
        "NUM_SAMPLES=10000\n",
        "MAX_NUM_WORDS=20000"
      ],
      "execution_count": 0,
      "outputs": []
    },
    {
      "cell_type": "code",
      "metadata": {
        "id": "3h-Nu5iVY3EW",
        "colab_type": "code",
        "colab": {}
      },
      "source": [
        "input_texts=[]\n",
        "target_texts=[]\n",
        "target_texts_inputs=[]"
      ],
      "execution_count": 0,
      "outputs": []
    },
    {
      "cell_type": "code",
      "metadata": {
        "id": "8_73jfAFZIFq",
        "colab_type": "code",
        "outputId": "6ff05a49-1760-4fcf-9dbd-1a6ea25a4985",
        "colab": {
          "base_uri": "https://localhost:8080/",
          "height": 35
        }
      },
      "source": [
        "t=0\n",
        "for line in open('/content/drive/My Drive/word2vec/hin.txt'):\n",
        "    t+=1\n",
        "    if t> NUM_SAMPLES:\n",
        "        break\n",
        "    if '\\t' not in line:\n",
        "        continue\n",
        "    input_text,translation=line.split('\\t')[:2]\n",
        "    target_text=translation+' <eos>'\n",
        "    target_text_input='<sos> '+translation\n",
        "\n",
        "    input_texts.append(input_text)\n",
        "    target_texts.append(target_text)\n",
        "    target_texts_inputs.append(target_text_input)\n",
        "\n",
        "\n",
        "print('num of samples:',len(input_texts))"
      ],
      "execution_count": 0,
      "outputs": [
        {
          "output_type": "stream",
          "text": [
            "num of samples: 2778\n"
          ],
          "name": "stdout"
        }
      ]
    },
    {
      "cell_type": "code",
      "metadata": {
        "id": "OuKUYQfWbBA_",
        "colab_type": "code",
        "outputId": "c4953dd5-4722-4afc-87c2-62d0bdb5406b",
        "colab": {
          "base_uri": "https://localhost:8080/",
          "height": 35
        }
      },
      "source": [
        "input_texts[1],target_texts[1],target_texts_inputs[1]"
      ],
      "execution_count": 0,
      "outputs": [
        {
          "output_type": "execute_result",
          "data": {
            "text/plain": [
              "('Help!', 'बचाओ! <eos>', '<sos> बचाओ!')"
            ]
          },
          "metadata": {
            "tags": []
          },
          "execution_count": 10
        }
      ]
    },
    {
      "cell_type": "code",
      "metadata": {
        "id": "8pD3BMJCbQmU",
        "colab_type": "code",
        "colab": {}
      },
      "source": [
        "#tokenizing inputs\n",
        "tokenizer_inputs=Tokenizer(num_words=MAX_NUM_WORDS)\n",
        "tokenizer_inputs.fit_on_texts(input_texts)\n",
        "input_sequences=tokenizer_inputs.texts_to_sequences(input_texts)\n",
        "\n",
        "word2idx_inputs=tokenizer_inputs.word_index"
      ],
      "execution_count": 0,
      "outputs": []
    },
    {
      "cell_type": "code",
      "metadata": {
        "id": "0P_Vy9BUdd5_",
        "colab_type": "code",
        "outputId": "1cfd5fcb-5d86-406c-f2e2-f919f3314c08",
        "colab": {
          "base_uri": "https://localhost:8080/",
          "height": 35
        }
      },
      "source": [
        "len(word2idx_inputs)"
      ],
      "execution_count": 0,
      "outputs": [
        {
          "output_type": "execute_result",
          "data": {
            "text/plain": [
              "2375"
            ]
          },
          "metadata": {
            "tags": []
          },
          "execution_count": 12
        }
      ]
    },
    {
      "cell_type": "code",
      "metadata": {
        "id": "HQehZGuzdlCx",
        "colab_type": "code",
        "colab": {}
      },
      "source": [
        "max_len_input=max(len(s) for s in input_sequences)"
      ],
      "execution_count": 0,
      "outputs": []
    },
    {
      "cell_type": "code",
      "metadata": {
        "id": "KsE39LlddyEd",
        "colab_type": "code",
        "outputId": "b8fcdd2c-37fa-4234-9b5e-064bcfb2cccb",
        "colab": {
          "base_uri": "https://localhost:8080/",
          "height": 35
        }
      },
      "source": [
        "max_len_input"
      ],
      "execution_count": 0,
      "outputs": [
        {
          "output_type": "execute_result",
          "data": {
            "text/plain": [
              "22"
            ]
          },
          "metadata": {
            "tags": []
          },
          "execution_count": 14
        }
      ]
    },
    {
      "cell_type": "code",
      "metadata": {
        "id": "9p4mF5QQd05f",
        "colab_type": "code",
        "colab": {}
      },
      "source": [
        "tokenizer_outputs=Tokenizer(num_words=MAX_NUM_WORDS,filters='')"
      ],
      "execution_count": 0,
      "outputs": []
    },
    {
      "cell_type": "code",
      "metadata": {
        "id": "R8BEENameOEM",
        "colab_type": "code",
        "colab": {}
      },
      "source": [
        "tokenizer_outputs.fit_on_texts(target_texts+target_texts_inputs)\n",
        "target_sequences=tokenizer_outputs.texts_to_sequences(target_texts)\n",
        "target_sequences_inputs=tokenizer_outputs.texts_to_sequences(target_texts_inputs)"
      ],
      "execution_count": 0,
      "outputs": []
    },
    {
      "cell_type": "code",
      "metadata": {
        "id": "RyHAeLsMes-m",
        "colab_type": "code",
        "colab": {}
      },
      "source": [
        "word2idx_outputs=tokenizer_outputs.word_index"
      ],
      "execution_count": 0,
      "outputs": []
    },
    {
      "cell_type": "code",
      "metadata": {
        "id": "7emmdb4Ne8eT",
        "colab_type": "code",
        "colab": {}
      },
      "source": [
        "num_words_output=len(word2idx_outputs)+1\n",
        "max_len_target=max(len(s) for s in target_sequences)"
      ],
      "execution_count": 0,
      "outputs": []
    },
    {
      "cell_type": "code",
      "metadata": {
        "id": "uBDjS4d3fXau",
        "colab_type": "code",
        "outputId": "acbe9f7a-a873-43ab-a4c6-34db3a9c7537",
        "colab": {
          "base_uri": "https://localhost:8080/",
          "height": 54
        }
      },
      "source": [
        "encoder_inputs=pad_sequences(input_sequences,maxlen=max_len_input)\n",
        "print(encoder_inputs.shape,encoder_inputs[0])"
      ],
      "execution_count": 0,
      "outputs": [
        {
          "output_type": "stream",
          "text": [
            "(2778, 22) [   0    0    0    0    0    0    0    0    0    0    0    0    0    0\n",
            "    0    0    0    0    0    0    0 1264]\n"
          ],
          "name": "stdout"
        }
      ]
    },
    {
      "cell_type": "code",
      "metadata": {
        "id": "tPXv7ec1gBMd",
        "colab_type": "code",
        "colab": {}
      },
      "source": [
        "decoder_inputs=pad_sequences(target_sequences_inputs,maxlen=max_len_target,padding='post')"
      ],
      "execution_count": 0,
      "outputs": []
    },
    {
      "cell_type": "code",
      "metadata": {
        "id": "Yn8CDwiWgHTM",
        "colab_type": "code",
        "colab": {}
      },
      "source": [
        "decoder_targets=pad_sequences(target_sequences,maxlen=max_len_target,padding='post')"
      ],
      "execution_count": 0,
      "outputs": []
    },
    {
      "cell_type": "code",
      "metadata": {
        "id": "lAfdipr-gcOE",
        "colab_type": "code",
        "colab": {}
      },
      "source": [
        "word2vec={}\n",
        "with open('/content/drive/My Drive/word2vec/glove.6B.50d.txt') as f:\n",
        "    for line in f:\n",
        "        values=line.split()\n",
        "        word=values[0]\n",
        "        vec=np.asarray(values[1:],dtype='float32')\n",
        "        word2vec[word]=vec\n"
      ],
      "execution_count": 0,
      "outputs": []
    },
    {
      "cell_type": "code",
      "metadata": {
        "id": "G8rTH7J-g0Mr",
        "colab_type": "code",
        "colab": {}
      },
      "source": [
        "num_words=min(MAX_NUM_WORDS,len(word2idx_inputs)+1)\n",
        "embedding_matrix=np.zeros((num_words,EMBEDDING_DIM))\n",
        "for word,i in word2idx_inputs.items():\n",
        "    if i<MAX_NUM_WORDS:\n",
        "        embedding_vector=word2vec.get(word)\n",
        "        if embedding_vector is not None:\n",
        "            embedding_matrix[i]=embedding_vector"
      ],
      "execution_count": 0,
      "outputs": []
    },
    {
      "cell_type": "code",
      "metadata": {
        "id": "MJyUizbXhdhf",
        "colab_type": "code",
        "colab": {}
      },
      "source": [
        "embedding_layer=Embedding(num_words,EMBEDDING_DIM,weights=[embedding_matrix],input_length=max_len_input)"
      ],
      "execution_count": 0,
      "outputs": []
    },
    {
      "cell_type": "code",
      "metadata": {
        "id": "tDvSQru-idq_",
        "colab_type": "code",
        "colab": {}
      },
      "source": [
        "decoder_targets_one_hot=np.zeros((\n",
        "    len(input_texts),max_len_target,num_words_output),dtype='float32'\n",
        "\n",
        ")"
      ],
      "execution_count": 0,
      "outputs": []
    },
    {
      "cell_type": "code",
      "metadata": {
        "id": "wp9Hyc-mjfym",
        "colab_type": "code",
        "colab": {}
      },
      "source": [
        "for i,d in enumerate(decoder_targets):\n",
        "    for t,word in enumerate(d):\n",
        "        decoder_targets_one_hot[i,t,word]=1\n",
        "        "
      ],
      "execution_count": 0,
      "outputs": []
    },
    {
      "cell_type": "code",
      "metadata": {
        "id": "aB2WoObOlk3d",
        "colab_type": "code",
        "colab": {}
      },
      "source": [
        "#model\n",
        "\n",
        "encoder_inputs_placeholder=Input(shape=(max_len_input,))\n",
        "x=embedding_layer(encoder_inputs_placeholder)\n",
        "encoder=LSTM(LATENT_DIM,return_state=True,dropout=0.5)\n",
        "encoder_outputs,h,c=encoder(x)\n",
        "\n",
        "\n",
        "encoder_states=[h,c]\n",
        "decoder_inputs_placeholder=Input(shape=(max_len_target,))\n",
        "decoder_embedding=Embedding(num_words_output,LATENT_DIM)\n",
        "decoder_inputs_x=decoder_embedding(decoder_inputs_placeholder)\n",
        "decoder_lstm=LSTM(LATENT_DIM,return_state=True,return_sequences=True,dropout=0.5)\n",
        "decoder_outputs,_,_=decoder_lstm(decoder_inputs_x,\n",
        "                                 initial_state=encoder_states)\n",
        "\n"
      ],
      "execution_count": 0,
      "outputs": []
    },
    {
      "cell_type": "code",
      "metadata": {
        "id": "uzR2eiD2nkBh",
        "colab_type": "code",
        "colab": {}
      },
      "source": [
        "decoder_dense=Dense(num_words_output,activation='softmax')\n",
        "decoder_outputs=decoder_dense(decoder_outputs)"
      ],
      "execution_count": 0,
      "outputs": []
    },
    {
      "cell_type": "code",
      "metadata": {
        "id": "wd2tjPhZoJUa",
        "colab_type": "code",
        "colab": {}
      },
      "source": [
        "model=Model([encoder_inputs_placeholder,decoder_inputs_placeholder],decoder_outputs)\n",
        "\n",
        "model.compile(optimizer='rmsprop',\n",
        "              loss='categorical_crossentropy',\n",
        "              metrics=['accuracy'])"
      ],
      "execution_count": 0,
      "outputs": []
    },
    {
      "cell_type": "code",
      "metadata": {
        "id": "8X_yYGi3oscj",
        "colab_type": "code",
        "outputId": "caa28304-81a7-47bc-f023-c952c4065c1a",
        "colab": {
          "base_uri": "https://localhost:8080/",
          "height": 1000
        }
      },
      "source": [
        "r=model.fit([encoder_inputs,decoder_inputs],\n",
        "            decoder_targets_one_hot,\n",
        "            batch_size=BATCH_SIZE,\n",
        "            epochs=EPOCHS,\n",
        "            validation_split=0.2)"
      ],
      "execution_count": 0,
      "outputs": [
        {
          "output_type": "stream",
          "text": [
            "Epoch 1/100\n",
            "35/35 [==============================] - 3s 92ms/step - loss: 2.4383 - accuracy: 0.7139 - val_loss: 2.8817 - val_accuracy: 0.5847\n",
            "Epoch 2/100\n",
            "35/35 [==============================] - 2s 63ms/step - loss: 1.5966 - accuracy: 0.7515 - val_loss: 2.6974 - val_accuracy: 0.6054\n",
            "Epoch 3/100\n",
            "35/35 [==============================] - 2s 63ms/step - loss: 1.4836 - accuracy: 0.7716 - val_loss: 2.6672 - val_accuracy: 0.6259\n",
            "Epoch 4/100\n",
            "35/35 [==============================] - 2s 63ms/step - loss: 1.4255 - accuracy: 0.7759 - val_loss: 2.6799 - val_accuracy: 0.6272\n",
            "Epoch 5/100\n",
            "35/35 [==============================] - 2s 61ms/step - loss: 1.3806 - accuracy: 0.7798 - val_loss: 2.7042 - val_accuracy: 0.6324\n",
            "Epoch 6/100\n",
            "35/35 [==============================] - 2s 60ms/step - loss: 1.3404 - accuracy: 0.7839 - val_loss: 2.6646 - val_accuracy: 0.6372\n",
            "Epoch 7/100\n",
            "35/35 [==============================] - 2s 61ms/step - loss: 1.3049 - accuracy: 0.7875 - val_loss: 2.6341 - val_accuracy: 0.6401\n",
            "Epoch 8/100\n",
            "35/35 [==============================] - 2s 64ms/step - loss: 1.2689 - accuracy: 0.7900 - val_loss: 2.6257 - val_accuracy: 0.6407\n",
            "Epoch 9/100\n",
            "35/35 [==============================] - 2s 60ms/step - loss: 1.2337 - accuracy: 0.7928 - val_loss: 2.6250 - val_accuracy: 0.6395\n",
            "Epoch 10/100\n",
            "35/35 [==============================] - 2s 61ms/step - loss: 1.2029 - accuracy: 0.7944 - val_loss: 2.6188 - val_accuracy: 0.6437\n",
            "Epoch 11/100\n",
            "35/35 [==============================] - 2s 61ms/step - loss: 1.1706 - accuracy: 0.7972 - val_loss: 2.5646 - val_accuracy: 0.6454\n",
            "Epoch 12/100\n",
            "35/35 [==============================] - 2s 61ms/step - loss: 1.1392 - accuracy: 0.8001 - val_loss: 2.5781 - val_accuracy: 0.6453\n",
            "Epoch 13/100\n",
            "35/35 [==============================] - 2s 61ms/step - loss: 1.1117 - accuracy: 0.8014 - val_loss: 2.5413 - val_accuracy: 0.6458\n",
            "Epoch 14/100\n",
            "35/35 [==============================] - 2s 61ms/step - loss: 1.0800 - accuracy: 0.8038 - val_loss: 2.5763 - val_accuracy: 0.6471\n",
            "Epoch 15/100\n",
            "35/35 [==============================] - 2s 61ms/step - loss: 1.0557 - accuracy: 0.8060 - val_loss: 2.5731 - val_accuracy: 0.6485\n",
            "Epoch 16/100\n",
            "35/35 [==============================] - 2s 61ms/step - loss: 1.0260 - accuracy: 0.8084 - val_loss: 2.5980 - val_accuracy: 0.6475\n",
            "Epoch 17/100\n",
            "35/35 [==============================] - 2s 62ms/step - loss: 1.0001 - accuracy: 0.8109 - val_loss: 2.5784 - val_accuracy: 0.6494\n",
            "Epoch 18/100\n",
            "35/35 [==============================] - 2s 62ms/step - loss: 0.9737 - accuracy: 0.8130 - val_loss: 2.5528 - val_accuracy: 0.6481\n",
            "Epoch 19/100\n",
            "35/35 [==============================] - 2s 61ms/step - loss: 0.9456 - accuracy: 0.8166 - val_loss: 2.5870 - val_accuracy: 0.6489\n",
            "Epoch 20/100\n",
            "35/35 [==============================] - 2s 61ms/step - loss: 0.9192 - accuracy: 0.8192 - val_loss: 2.5630 - val_accuracy: 0.6497\n",
            "Epoch 21/100\n",
            "35/35 [==============================] - 2s 60ms/step - loss: 0.8947 - accuracy: 0.8213 - val_loss: 2.5520 - val_accuracy: 0.6519\n",
            "Epoch 22/100\n",
            "35/35 [==============================] - 2s 61ms/step - loss: 0.8681 - accuracy: 0.8246 - val_loss: 2.5696 - val_accuracy: 0.6536\n",
            "Epoch 23/100\n",
            "35/35 [==============================] - 2s 61ms/step - loss: 0.8426 - accuracy: 0.8277 - val_loss: 2.5697 - val_accuracy: 0.6534\n",
            "Epoch 24/100\n",
            "35/35 [==============================] - 2s 62ms/step - loss: 0.8184 - accuracy: 0.8316 - val_loss: 2.5611 - val_accuracy: 0.6549\n",
            "Epoch 25/100\n",
            "35/35 [==============================] - 2s 61ms/step - loss: 0.7955 - accuracy: 0.8333 - val_loss: 2.5622 - val_accuracy: 0.6554\n",
            "Epoch 26/100\n",
            "35/35 [==============================] - 2s 61ms/step - loss: 0.7704 - accuracy: 0.8377 - val_loss: 2.5726 - val_accuracy: 0.6563\n",
            "Epoch 27/100\n",
            "35/35 [==============================] - 2s 62ms/step - loss: 0.7504 - accuracy: 0.8398 - val_loss: 2.5732 - val_accuracy: 0.6555\n",
            "Epoch 28/100\n",
            "35/35 [==============================] - 2s 61ms/step - loss: 0.7269 - accuracy: 0.8442 - val_loss: 2.5760 - val_accuracy: 0.6568\n",
            "Epoch 29/100\n",
            "35/35 [==============================] - 2s 61ms/step - loss: 0.7053 - accuracy: 0.8489 - val_loss: 2.5912 - val_accuracy: 0.6572\n",
            "Epoch 30/100\n",
            "35/35 [==============================] - 2s 62ms/step - loss: 0.6853 - accuracy: 0.8520 - val_loss: 2.5600 - val_accuracy: 0.6588\n",
            "Epoch 31/100\n",
            "35/35 [==============================] - 2s 61ms/step - loss: 0.6645 - accuracy: 0.8553 - val_loss: 2.5729 - val_accuracy: 0.6568\n",
            "Epoch 32/100\n",
            "35/35 [==============================] - 2s 61ms/step - loss: 0.6440 - accuracy: 0.8592 - val_loss: 2.5674 - val_accuracy: 0.6589\n",
            "Epoch 33/100\n",
            "35/35 [==============================] - 2s 61ms/step - loss: 0.6232 - accuracy: 0.8637 - val_loss: 2.5749 - val_accuracy: 0.6580\n",
            "Epoch 34/100\n",
            "35/35 [==============================] - 2s 62ms/step - loss: 0.6051 - accuracy: 0.8672 - val_loss: 2.6013 - val_accuracy: 0.6572\n",
            "Epoch 35/100\n",
            "35/35 [==============================] - 2s 62ms/step - loss: 0.5856 - accuracy: 0.8725 - val_loss: 2.5849 - val_accuracy: 0.6586\n",
            "Epoch 36/100\n",
            "35/35 [==============================] - 2s 62ms/step - loss: 0.5671 - accuracy: 0.8763 - val_loss: 2.5862 - val_accuracy: 0.6588\n",
            "Epoch 37/100\n",
            "35/35 [==============================] - 2s 61ms/step - loss: 0.5515 - accuracy: 0.8787 - val_loss: 2.5945 - val_accuracy: 0.6583\n",
            "Epoch 38/100\n",
            "35/35 [==============================] - 2s 60ms/step - loss: 0.5302 - accuracy: 0.8846 - val_loss: 2.6017 - val_accuracy: 0.6586\n",
            "Epoch 39/100\n",
            "35/35 [==============================] - 2s 60ms/step - loss: 0.5124 - accuracy: 0.8890 - val_loss: 2.6063 - val_accuracy: 0.6579\n",
            "Epoch 40/100\n",
            "35/35 [==============================] - 2s 62ms/step - loss: 0.4977 - accuracy: 0.8916 - val_loss: 2.6059 - val_accuracy: 0.6598\n",
            "Epoch 41/100\n",
            "35/35 [==============================] - 2s 61ms/step - loss: 0.4797 - accuracy: 0.8962 - val_loss: 2.6115 - val_accuracy: 0.6595\n",
            "Epoch 42/100\n",
            "35/35 [==============================] - 2s 62ms/step - loss: 0.4637 - accuracy: 0.8989 - val_loss: 2.6260 - val_accuracy: 0.6601\n",
            "Epoch 43/100\n",
            "35/35 [==============================] - 2s 62ms/step - loss: 0.4474 - accuracy: 0.9030 - val_loss: 2.6224 - val_accuracy: 0.6592\n",
            "Epoch 44/100\n",
            "35/35 [==============================] - 2s 62ms/step - loss: 0.4368 - accuracy: 0.9050 - val_loss: 2.6284 - val_accuracy: 0.6610\n",
            "Epoch 45/100\n",
            "35/35 [==============================] - 2s 61ms/step - loss: 0.4195 - accuracy: 0.9103 - val_loss: 2.6245 - val_accuracy: 0.6606\n",
            "Epoch 46/100\n",
            "35/35 [==============================] - 2s 61ms/step - loss: 0.4057 - accuracy: 0.9138 - val_loss: 2.6356 - val_accuracy: 0.6599\n",
            "Epoch 47/100\n",
            "35/35 [==============================] - 2s 61ms/step - loss: 0.3925 - accuracy: 0.9158 - val_loss: 2.6364 - val_accuracy: 0.6608\n",
            "Epoch 48/100\n",
            "35/35 [==============================] - 2s 61ms/step - loss: 0.3769 - accuracy: 0.9199 - val_loss: 2.6664 - val_accuracy: 0.6603\n",
            "Epoch 49/100\n",
            "35/35 [==============================] - 2s 61ms/step - loss: 0.3661 - accuracy: 0.9227 - val_loss: 2.6655 - val_accuracy: 0.6597\n",
            "Epoch 50/100\n",
            "35/35 [==============================] - 2s 61ms/step - loss: 0.3524 - accuracy: 0.9255 - val_loss: 2.6585 - val_accuracy: 0.6601\n",
            "Epoch 51/100\n",
            "35/35 [==============================] - 2s 60ms/step - loss: 0.3381 - accuracy: 0.9294 - val_loss: 2.6597 - val_accuracy: 0.6606\n",
            "Epoch 52/100\n",
            "35/35 [==============================] - 2s 61ms/step - loss: 0.3283 - accuracy: 0.9309 - val_loss: 2.6715 - val_accuracy: 0.6614\n",
            "Epoch 53/100\n",
            "35/35 [==============================] - 2s 62ms/step - loss: 0.3164 - accuracy: 0.9349 - val_loss: 2.6872 - val_accuracy: 0.6607\n",
            "Epoch 54/100\n",
            "35/35 [==============================] - 2s 62ms/step - loss: 0.3075 - accuracy: 0.9368 - val_loss: 2.6825 - val_accuracy: 0.6606\n",
            "Epoch 55/100\n",
            "35/35 [==============================] - 2s 61ms/step - loss: 0.2917 - accuracy: 0.9400 - val_loss: 2.6921 - val_accuracy: 0.6606\n",
            "Epoch 56/100\n",
            "35/35 [==============================] - 2s 61ms/step - loss: 0.2820 - accuracy: 0.9422 - val_loss: 2.7129 - val_accuracy: 0.6608\n",
            "Epoch 57/100\n",
            "35/35 [==============================] - 2s 62ms/step - loss: 0.2751 - accuracy: 0.9440 - val_loss: 2.7092 - val_accuracy: 0.6597\n",
            "Epoch 58/100\n",
            "35/35 [==============================] - 2s 61ms/step - loss: 0.2640 - accuracy: 0.9460 - val_loss: 2.7061 - val_accuracy: 0.6606\n",
            "Epoch 59/100\n",
            "35/35 [==============================] - 2s 61ms/step - loss: 0.2538 - accuracy: 0.9487 - val_loss: 2.7206 - val_accuracy: 0.6611\n",
            "Epoch 60/100\n",
            "35/35 [==============================] - 2s 61ms/step - loss: 0.2446 - accuracy: 0.9507 - val_loss: 2.7270 - val_accuracy: 0.6597\n",
            "Epoch 61/100\n",
            "35/35 [==============================] - 2s 61ms/step - loss: 0.2356 - accuracy: 0.9530 - val_loss: 2.7418 - val_accuracy: 0.6605\n",
            "Epoch 62/100\n",
            "35/35 [==============================] - 2s 61ms/step - loss: 0.2268 - accuracy: 0.9546 - val_loss: 2.7481 - val_accuracy: 0.6609\n",
            "Epoch 63/100\n",
            "35/35 [==============================] - 2s 61ms/step - loss: 0.2182 - accuracy: 0.9562 - val_loss: 2.7384 - val_accuracy: 0.6619\n",
            "Epoch 64/100\n",
            "35/35 [==============================] - 2s 62ms/step - loss: 0.2109 - accuracy: 0.9579 - val_loss: 2.7583 - val_accuracy: 0.6623\n",
            "Epoch 65/100\n",
            "35/35 [==============================] - 2s 60ms/step - loss: 0.2023 - accuracy: 0.9603 - val_loss: 2.7604 - val_accuracy: 0.6619\n",
            "Epoch 66/100\n",
            "35/35 [==============================] - 2s 60ms/step - loss: 0.1965 - accuracy: 0.9614 - val_loss: 2.7690 - val_accuracy: 0.6628\n",
            "Epoch 67/100\n",
            "35/35 [==============================] - 2s 61ms/step - loss: 0.1874 - accuracy: 0.9636 - val_loss: 2.7788 - val_accuracy: 0.6608\n",
            "Epoch 68/100\n",
            "35/35 [==============================] - 2s 62ms/step - loss: 0.1818 - accuracy: 0.9644 - val_loss: 2.7927 - val_accuracy: 0.6609\n",
            "Epoch 69/100\n",
            "35/35 [==============================] - 2s 61ms/step - loss: 0.1749 - accuracy: 0.9658 - val_loss: 2.7878 - val_accuracy: 0.6626\n",
            "Epoch 70/100\n",
            "35/35 [==============================] - 2s 61ms/step - loss: 0.1692 - accuracy: 0.9671 - val_loss: 2.8017 - val_accuracy: 0.6613\n",
            "Epoch 71/100\n",
            "35/35 [==============================] - 2s 62ms/step - loss: 0.1630 - accuracy: 0.9681 - val_loss: 2.7993 - val_accuracy: 0.6619\n",
            "Epoch 72/100\n",
            "35/35 [==============================] - 2s 61ms/step - loss: 0.1541 - accuracy: 0.9706 - val_loss: 2.8227 - val_accuracy: 0.6623\n",
            "Epoch 73/100\n",
            "35/35 [==============================] - 2s 61ms/step - loss: 0.1505 - accuracy: 0.9706 - val_loss: 2.8124 - val_accuracy: 0.6612\n",
            "Epoch 74/100\n",
            "35/35 [==============================] - 2s 61ms/step - loss: 0.1440 - accuracy: 0.9720 - val_loss: 2.8324 - val_accuracy: 0.6611\n",
            "Epoch 75/100\n",
            "35/35 [==============================] - 2s 61ms/step - loss: 0.1417 - accuracy: 0.9729 - val_loss: 2.8435 - val_accuracy: 0.6610\n",
            "Epoch 76/100\n",
            "35/35 [==============================] - 2s 61ms/step - loss: 0.1332 - accuracy: 0.9744 - val_loss: 2.8488 - val_accuracy: 0.6617\n",
            "Epoch 77/100\n",
            "35/35 [==============================] - 2s 63ms/step - loss: 0.1304 - accuracy: 0.9756 - val_loss: 2.8671 - val_accuracy: 0.6612\n",
            "Epoch 78/100\n",
            "35/35 [==============================] - 2s 62ms/step - loss: 0.1258 - accuracy: 0.9758 - val_loss: 2.8609 - val_accuracy: 0.6628\n",
            "Epoch 79/100\n",
            "35/35 [==============================] - 2s 62ms/step - loss: 0.1211 - accuracy: 0.9769 - val_loss: 2.8659 - val_accuracy: 0.6617\n",
            "Epoch 80/100\n",
            "35/35 [==============================] - 2s 62ms/step - loss: 0.1156 - accuracy: 0.9781 - val_loss: 2.8699 - val_accuracy: 0.6617\n",
            "Epoch 81/100\n",
            "35/35 [==============================] - 2s 61ms/step - loss: 0.1119 - accuracy: 0.9787 - val_loss: 2.8771 - val_accuracy: 0.6619\n",
            "Epoch 82/100\n",
            "35/35 [==============================] - 2s 62ms/step - loss: 0.1071 - accuracy: 0.9792 - val_loss: 2.8869 - val_accuracy: 0.6610\n",
            "Epoch 83/100\n",
            "35/35 [==============================] - 2s 61ms/step - loss: 0.1051 - accuracy: 0.9799 - val_loss: 2.8945 - val_accuracy: 0.6612\n",
            "Epoch 84/100\n",
            "35/35 [==============================] - 2s 61ms/step - loss: 0.1001 - accuracy: 0.9807 - val_loss: 2.9155 - val_accuracy: 0.6603\n",
            "Epoch 85/100\n",
            "35/35 [==============================] - 2s 60ms/step - loss: 0.0964 - accuracy: 0.9820 - val_loss: 2.9107 - val_accuracy: 0.6611\n",
            "Epoch 86/100\n",
            "35/35 [==============================] - 2s 61ms/step - loss: 0.0926 - accuracy: 0.9825 - val_loss: 2.9155 - val_accuracy: 0.6617\n",
            "Epoch 87/100\n",
            "35/35 [==============================] - 2s 62ms/step - loss: 0.0900 - accuracy: 0.9835 - val_loss: 2.9113 - val_accuracy: 0.6622\n",
            "Epoch 88/100\n",
            "35/35 [==============================] - 2s 62ms/step - loss: 0.0873 - accuracy: 0.9835 - val_loss: 2.9210 - val_accuracy: 0.6612\n",
            "Epoch 89/100\n",
            "35/35 [==============================] - 2s 61ms/step - loss: 0.0835 - accuracy: 0.9841 - val_loss: 2.9358 - val_accuracy: 0.6615\n",
            "Epoch 90/100\n",
            "35/35 [==============================] - 2s 62ms/step - loss: 0.0821 - accuracy: 0.9842 - val_loss: 2.9383 - val_accuracy: 0.6630\n",
            "Epoch 91/100\n",
            "35/35 [==============================] - 2s 62ms/step - loss: 0.0788 - accuracy: 0.9848 - val_loss: 2.9445 - val_accuracy: 0.6626\n",
            "Epoch 92/100\n",
            "35/35 [==============================] - 2s 62ms/step - loss: 0.0761 - accuracy: 0.9851 - val_loss: 2.9559 - val_accuracy: 0.6615\n",
            "Epoch 93/100\n",
            "35/35 [==============================] - 2s 61ms/step - loss: 0.0740 - accuracy: 0.9856 - val_loss: 2.9754 - val_accuracy: 0.6617\n",
            "Epoch 94/100\n",
            "35/35 [==============================] - 2s 61ms/step - loss: 0.0710 - accuracy: 0.9858 - val_loss: 2.9621 - val_accuracy: 0.6633\n",
            "Epoch 95/100\n",
            "35/35 [==============================] - 2s 61ms/step - loss: 0.0694 - accuracy: 0.9866 - val_loss: 2.9823 - val_accuracy: 0.6619\n",
            "Epoch 96/100\n",
            "35/35 [==============================] - 2s 60ms/step - loss: 0.0675 - accuracy: 0.9867 - val_loss: 2.9877 - val_accuracy: 0.6610\n",
            "Epoch 97/100\n",
            "35/35 [==============================] - 2s 62ms/step - loss: 0.0640 - accuracy: 0.9879 - val_loss: 2.9866 - val_accuracy: 0.6609\n",
            "Epoch 98/100\n",
            "35/35 [==============================] - 2s 61ms/step - loss: 0.0618 - accuracy: 0.9880 - val_loss: 3.0054 - val_accuracy: 0.6610\n",
            "Epoch 99/100\n",
            "35/35 [==============================] - 2s 62ms/step - loss: 0.0612 - accuracy: 0.9885 - val_loss: 2.9958 - val_accuracy: 0.6617\n",
            "Epoch 100/100\n",
            "35/35 [==============================] - 2s 60ms/step - loss: 0.0590 - accuracy: 0.9884 - val_loss: 3.0100 - val_accuracy: 0.6620\n"
          ],
          "name": "stdout"
        }
      ]
    },
    {
      "cell_type": "code",
      "metadata": {
        "id": "rUJ0iEL2pOBT",
        "colab_type": "code",
        "outputId": "eb030674-178a-4688-cf78-9ad8b7618a85",
        "colab": {
          "base_uri": "https://localhost:8080/",
          "height": 265
        }
      },
      "source": [
        "plt.plot(r.history['loss'],label='loss')\n",
        "plt.plot(r.history['val_loss'],label='val_loss')\n",
        "plt.legend()\n",
        "plt.show()"
      ],
      "execution_count": 0,
      "outputs": [
        {
          "output_type": "display_data",
          "data": {
            "image/png": "[encoded data removed]",
            "text/plain": [
              "<Figure size 432x288 with 1 Axes>"
            ]
          },
          "metadata": {
            "tags": [],
            "needs_background": "light"
          }
        }
      ]
    },
    {
      "cell_type": "code",
      "metadata": {
        "id": "Eqcuae0Upyin",
        "colab_type": "code",
        "outputId": "0adba8d6-5add-4119-d468-2c6e0bafb451",
        "colab": {
          "base_uri": "https://localhost:8080/",
          "height": 265
        }
      },
      "source": [
        "plt.plot(r.history['accuracy'],label='accuracy')\n",
        "plt.plot(r.history['val_accuracy'],label='val_acc')\n",
        "plt.legend()\n",
        "plt.show()"
      ],
      "execution_count": 0,
      "outputs": [
        {
          "output_type": "display_data",
          "data": {
            "image/png": "[encoded data removed]",
            "text/plain": [
              "<Figure size 432x288 with 1 Axes>"
            ]
          },
          "metadata": {
            "tags": [],
            "needs_background": "light"
          }
        }
      ]
    },
    {
      "cell_type": "code",
      "metadata": {
        "id": "1EZhJ25SqHN_",
        "colab_type": "code",
        "colab": {}
      },
      "source": [
        "encoder_model=Model(encoder_inputs_placeholder,encoder_states)\n",
        "\n",
        "decoder_state_input_h=Input(shape=(LATENT_DIM,))\n",
        "decoder_state_input_c=Input(shape=(LATENT_DIM,))\n",
        "decoder_states_inputs=[decoder_state_input_h,decoder_state_input_c]\n",
        "\n",
        "decoder_inputs_single=Input(shape=(1,))\n",
        "decoder_inputs_single_x=decoder_embedding(decoder_inputs_single)\n",
        "\n",
        "decoder_outputs,h,c=decoder_lstm(decoder_inputs_single_x,initial_state=decoder_states_inputs)\n"
      ],
      "execution_count": 0,
      "outputs": []
    },
    {
      "cell_type": "code",
      "metadata": {
        "id": "dABizLsStCBL",
        "colab_type": "code",
        "colab": {}
      },
      "source": [
        "decoder_states=[h,c]\n",
        "decoder_outputs=decoder_dense(decoder_outputs)\n"
      ],
      "execution_count": 0,
      "outputs": []
    },
    {
      "cell_type": "code",
      "metadata": {
        "id": "6Yr00SNBtNzl",
        "colab_type": "code",
        "colab": {}
      },
      "source": [
        "decoder_model=Model([decoder_inputs_single]+decoder_states_inputs,[decoder_outputs]+decoder_states)"
      ],
      "execution_count": 0,
      "outputs": []
    },
    {
      "cell_type": "code",
      "metadata": {
        "id": "7645bg0etnG9",
        "colab_type": "code",
        "colab": {}
      },
      "source": [
        "idx2word_eng={v:k for k,v in word2idx_inputs.items()}\n",
        "idx2word_trans={v:k for k,v in word2idx_outputs.items()}\n"
      ],
      "execution_count": 0,
      "outputs": []
    },
    {
      "cell_type": "code",
      "metadata": {
        "id": "UvUMKT6kt6US",
        "colab_type": "code",
        "colab": {}
      },
      "source": [
        "def decode_sequence(input_seq):\n",
        "    states_value=encoder_model.predict(input_seq)\n",
        "    target_seq=np.zeros((1,1))\n",
        "    target_seq[0,0]=word2idx_outputs['<sos>']\n",
        "\n",
        "    eos=word2idx_outputs['<eos>']\n",
        "\n",
        "    output_sentence=[]\n",
        "    for _ in range(max_len_target):\n",
        "        output_tokens,h,c=decoder_model.predict([target_seq]+states_value)\n",
        "\n",
        "\n",
        "        idx=np.argmax(output_tokens[0,0,:])\n",
        "\n",
        "        if eos==idx:\n",
        "            break\n",
        "        word=''\n",
        "        if idx>0:\n",
        "            word=idx2word_trans[idx]\n",
        "            output_sentence.append(word)\n",
        "\n",
        "        target_seq[0,0]=idx\n",
        "\n",
        "        states_value=[h,c]\n",
        "\n",
        "    return ' '.join(output_sentence)\n",
        "\n"
      ],
      "execution_count": 0,
      "outputs": []
    },
    {
      "cell_type": "code",
      "metadata": {
        "id": "mS2dLsM-vtYP",
        "colab_type": "code",
        "outputId": "1469c514-7eaa-438a-fdba-471af4581d6f",
        "colab": {
          "base_uri": "https://localhost:8080/",
          "height": 678
        }
      },
      "source": [
        "while True:\n",
        "    i=np.random.choice(len(input_texts))\n",
        "    input_seq=encoder_inputs[i:i+1]\n",
        "    translation=decode_sequence(input_seq)\n",
        "    print('-')\n",
        "    print('input:',input_texts[i])\n",
        "    print('translation:',translation)\n",
        "\n",
        "    ans=input(\"continue? [y/n]\")\n",
        "    if ans and ans.lower().startswith('n'):\n",
        "        break\n"
      ],
      "execution_count": 0,
      "outputs": [
        {
          "output_type": "stream",
          "text": [
            "-\n",
            "input: Almost all the leaves have fallen.\n",
            "translation: लगभग सारी-की-सारी पत्तियाँ गिर चुकीं हैं।\n",
            "continue? [y/n]y\n",
            "-\n",
            "input: This is your key.\n",
            "translation: यह आपकी चाबी है।\n",
            "continue? [y/n]y\n",
            "-\n",
            "input: Read it again.\n",
            "translation: इसे दोबारा पढ़ें।\n",
            "continue? [y/n]y\n",
            "-\n",
            "input: The girl who works at the bakery is cute.\n",
            "translation: उस लड़के के जेब में एक सेव है।\n",
            "continue? [y/n]y\n",
            "-\n",
            "input: Few people will admit their faults.\n",
            "translation: बहुत कम लोग अपनी गलतियों को मानते हैं।\n",
            "continue? [y/n]y\n",
            "-\n",
            "input: A good idea suddenly struck her.\n",
            "translation: अचानक उसे एक अच्छा आइडिया आया।\n",
            "continue? [y/n]y\n",
            "-\n",
            "input: \"What time is it?\" \"It's 3:20.\"\n",
            "translation: \"अभी कितने बजे हैं?\" \"तीन बीस बजे हैं\"\n",
            "continue? [y/n]y\n",
            "-\n",
            "input: The animals in the forest died off.\n",
            "translation: जंगल के जानवर मर गए।\n",
            "continue? [y/n]y\n",
            "-\n",
            "input: I'll be staying here for three months.\n",
            "translation: मैं यहाँ तीन महीनों के लिए रहूँगा।\n",
            "continue? [y/n]n\n"
          ],
          "name": "stdout"
        }
      ]
    },
    {
      "cell_type": "code",
      "metadata": {
        "id": "WNSojZovwX-q",
        "colab_type": "code",
        "colab": {}
      },
      "source": [
        "#custom function\n",
        "def lets_translate():\n",
        "    \n",
        "    while True:\n",
        "\n",
        "        my_sentence=[]\n",
        "        line=input('give a sentence to translate into hindi:')\n",
        "        my_sentence.append(line)\n",
        "        ip_seq=tokenizer_inputs.texts_to_sequences(my_sentence)\n",
        "        encoder_ip_inputs=pad_sequences(ip_seq,maxlen=max_len_input)\n",
        "        smpl=encoder_ip_inputs[0:1]  #so that predict function recieves proper size\n",
        "        tr=decode_sequence(smpl)\n",
        "        print('translation: '+tr)\n",
        "        print('--')\n",
        "        ch=input('continue?[y/n]')\n",
        "        if ch.lower().startswith('n'):\n",
        "            break\n",
        "\n",
        "\n",
        "\n"
      ],
      "execution_count": 0,
      "outputs": []
    },
    {
      "cell_type": "code",
      "metadata": {
        "id": "HpSNvQLIw6oJ",
        "colab_type": "code",
        "colab": {}
      },
      "source": [
        "lets_translate()"
      ],
      "execution_count": 0,
      "outputs": []
    },
    {
      "cell_type": "code",
      "metadata": {
        "id": "CvZURwzw-VOs",
        "colab_type": "code",
        "colab": {}
      },
      "source": [
        ""
      ],
      "execution_count": 0,
      "outputs": []
    }
  ]
}